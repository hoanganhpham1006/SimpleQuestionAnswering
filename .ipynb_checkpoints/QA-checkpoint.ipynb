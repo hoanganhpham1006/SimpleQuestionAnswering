{
 "cells": [
  {
   "cell_type": "code",
   "execution_count": 1,
   "metadata": {},
   "outputs": [],
   "source": [
    "from underthesea import word_tokenize\n",
    "from underthesea import ner\n",
    "from nltk import sent_tokenize\n",
    "import requests\n",
    "import framler\n",
    "import string\n",
    "from urllib.parse import urlparse\n",
    "from google import google\n",
    "import framler\n",
    "import operator\n",
    "from tqdm import tqdm"
   ]
  },
  {
   "cell_type": "code",
   "execution_count": 2,
   "metadata": {},
   "outputs": [],
   "source": [
    "with open('stopwords.txt', 'r') as f:\n",
    "    stopwords = f.readlines()\n",
    "    stopwords = stopwords[-1].split()"
   ]
  },
  {
   "cell_type": "code",
   "execution_count": 3,
   "metadata": {},
   "outputs": [],
   "source": [
    "def tokenize(text):\n",
    "    sents = sent_tokenize(text)\n",
    "    sents = [word_tokenize(s,format = 'text') for s in sents]\n",
    "    return sents\n",
    "\n",
    "def keywords_extraction(sentences):\n",
    "    sent = sentences.lower()\n",
    "    sent = sent.split()\n",
    "    sent = [s for s in sent if s not in stopwords and s not in string.punctuation]\n",
    "    return sent"
   ]
  },
  {
   "cell_type": "code",
   "execution_count": 184,
   "metadata": {},
   "outputs": [],
   "source": [
    "question = \"Đi đâu để kiếm người yêu\"\n",
    "question_tokenized = tokenize(question)\n",
    "keywords = keywords_extraction(\" \".join(question_tokenized))"
   ]
  },
  {
   "cell_type": "code",
   "execution_count": 185,
   "metadata": {},
   "outputs": [
    {
     "data": {
      "text/plain": [
       "['đi', 'đâu', 'kiếm', 'người_yêu']"
      ]
     },
     "execution_count": 185,
     "metadata": {},
     "output_type": "execute_result"
    }
   ],
   "source": [
    "keywords"
   ]
  },
  {
   "cell_type": "code",
   "execution_count": 186,
   "metadata": {},
   "outputs": [],
   "source": [
    "search_result = google.search(question, 1)"
   ]
  },
  {
   "cell_type": "code",
   "execution_count": 187,
   "metadata": {},
   "outputs": [],
   "source": [
    "domain_dict = {\n",
    "    \"vi.wikipedia.org\": \"wiki\",\n",
    "    \"vnexpress.net\": \"vnexpress\",\n",
    "    \"news.zing.vn\": \"zingnews\",\n",
    "    \"dantri.com.vn\": \"dantri\",\n",
    "    \"thethao.thanhnien.vn\": \"thethaothanhnien\",\n",
    "    \"vietnamnet.vn\": \"vietnamnet\",\n",
    "    \"tuoitre.vn\": \"tuoitrevn\",\n",
    "    \"thanhnien.vn\": \"thanhnien\",\n",
    "    \"cafebiz.vn\": \"cafebiz\",\n",
    "    \"laodong.vn\": \"laodong\"\n",
    "}"
   ]
  },
  {
   "cell_type": "code",
   "execution_count": 188,
   "metadata": {},
   "outputs": [
    {
     "name": "stderr",
     "output_type": "stream",
     "text": [
      "  0%|          | 0/9 [00:00<?, ?it/s]"
     ]
    },
    {
     "name": "stdout",
     "output_type": "stream",
     "text": [
      "https://thanhnien.vn/gioi-tre/lam-gi-de-co-nguoi-yeu-1025934.html\n"
     ]
    },
    {
     "name": "stderr",
     "output_type": "stream",
     "text": [
      " 11%|█         | 1/9 [00:00<00:05,  1.55it/s]"
     ]
    },
    {
     "name": "stdout",
     "output_type": "stream",
     "text": [
      "https://vnexpress.net/doi-song/6-thoi-quen-khien-ban-mai-khong-co-nguoi-yeu-3731346.html\n"
     ]
    },
    {
     "name": "stderr",
     "output_type": "stream",
     "text": [
      " 22%|██▏       | 2/9 [00:01<00:04,  1.56it/s]"
     ]
    },
    {
     "name": "stdout",
     "output_type": "stream",
     "text": [
      "https://news.zing.vn/8-loi-khuyen-giup-ban-tim-duoc-nguoi-yeu-hoan-hao-qua-mang-post809706.html\n"
     ]
    },
    {
     "name": "stderr",
     "output_type": "stream",
     "text": [
      "100%|██████████| 9/9 [00:01<00:00,  5.37it/s]\n"
     ]
    }
   ],
   "source": [
    "result = {}\n",
    "\n",
    "for i in tqdm(range(len(search_result))):\n",
    "    url = search_result[i].link\n",
    "    domain = urlparse(url).netloc\n",
    "    if domain not in domain_dict.keys():\n",
    "        continue\n",
    "    domain = domain_dict[domain]\n",
    "    \n",
    "    dt = framler.NewspapersParser(domain)\n",
    "    print(url)\n",
    "    text = dt.parse(url).text\n",
    "    \n",
    "    passages = []\n",
    "\n",
    "    for sent in text.split('.'):\n",
    "        sent_tok = \" \".join(tokenize(sent))\n",
    "        sent_tok = sent_tok.replace('\\n', '').strip().lower()\n",
    "        sent_keywords = keywords_extraction(sent_tok)\n",
    "        num_overlap_keywords = len(set(sent_keywords) & set(keywords))\n",
    "        if num_overlap_keywords > 0:\n",
    "            passages.append(sent)\n",
    "    \n",
    "    for p in passages:\n",
    "        res = []\n",
    "        for info in ner(p):\n",
    "            if info[3] == 'B-LOC':\n",
    "                res.append(info[0])\n",
    "            if info[3] == 'I-LOC':\n",
    "                res[-1] += ' ' + info[0]\n",
    "        for r in res:\n",
    "            if r in result.keys():\n",
    "                result[r] += 1\n",
    "            else:\n",
    "                result[r] = 1\n",
    "    for key in result.keys():\n",
    "        if \"_\".join(key.split()).lower() in keywords: #Remove keyword from question\n",
    "            result[key] = 0"
   ]
  },
  {
   "cell_type": "code",
   "execution_count": 189,
   "metadata": {},
   "outputs": [],
   "source": [
    "sorted_result = sorted(result.items(), key=operator.itemgetter(1), reverse=True)"
   ]
  },
  {
   "cell_type": "code",
   "execution_count": 190,
   "metadata": {},
   "outputs": [
    {
     "data": {
      "text/plain": [
       "[('tình yêu Bạn', 1),\n",
       " ('sinh viên Trường ĐH Tôn Đức Thắng', 1),\n",
       " ('Cộng đồng mạng 2 2', 1)]"
      ]
     },
     "execution_count": 190,
     "metadata": {},
     "output_type": "execute_result"
    }
   ],
   "source": [
    "sorted_result[:5]"
   ]
  }
 ],
 "metadata": {
  "kernelspec": {
   "display_name": "qa_env",
   "language": "python",
   "name": "qa_env"
  },
  "language_info": {
   "codemirror_mode": {
    "name": "ipython",
    "version": 3
   },
   "file_extension": ".py",
   "mimetype": "text/x-python",
   "name": "python",
   "nbconvert_exporter": "python",
   "pygments_lexer": "ipython3",
   "version": "3.5.2"
  }
 },
 "nbformat": 4,
 "nbformat_minor": 2
}
