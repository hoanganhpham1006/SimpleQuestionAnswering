{
 "cells": [
  {
   "cell_type": "code",
   "execution_count": 228,
   "metadata": {},
   "outputs": [],
   "source": [
    "from underthesea import word_tokenize\n",
    "from underthesea import ner\n",
    "from nltk import sent_tokenize\n",
    "import requests\n",
    "import framler\n",
    "import string\n",
    "from urllib.parse import urlparse\n",
    "from google import google\n",
    "import framler\n",
    "import operator\n",
    "from tqdm import tqdm"
   ]
  },
  {
   "cell_type": "code",
   "execution_count": 229,
   "metadata": {},
   "outputs": [],
   "source": [
    "with open('stopwords.txt', 'r') as f:\n",
    "    stopwords = f.readlines()\n",
    "    stopwords = stopwords[-1].split()"
   ]
  },
  {
   "cell_type": "code",
   "execution_count": 230,
   "metadata": {},
   "outputs": [],
   "source": [
    "def tokenize(text):\n",
    "    sents = sent_tokenize(text)\n",
    "    sents = [word_tokenize(s,format = 'text') for s in sents]\n",
    "    return sents\n",
    "\n",
    "def keywords_extraction(sentences):\n",
    "    sent = sentences.lower()\n",
    "    sent = sent.split()\n",
    "    sent = [s for s in sent if s not in stopwords and s not in string.punctuation]\n",
    "    return sent"
   ]
  },
  {
   "cell_type": "code",
   "execution_count": 245,
   "metadata": {},
   "outputs": [],
   "source": [
    "question = \"Người yêu Hoàng Kiều là ai?\"\n",
    "question_tokenized = tokenize(question)\n",
    "keywords = keywords_extraction(\" \".join(question_tokenized))"
   ]
  },
  {
   "cell_type": "code",
   "execution_count": 246,
   "metadata": {},
   "outputs": [
    {
     "data": {
      "text/plain": [
       "['người_yêu', 'hoàng_kiều', 'ai']"
      ]
     },
     "execution_count": 246,
     "metadata": {},
     "output_type": "execute_result"
    }
   ],
   "source": [
    "keywords"
   ]
  },
  {
   "cell_type": "code",
   "execution_count": 247,
   "metadata": {},
   "outputs": [],
   "source": [
    "search_result = google.search(question, 1)"
   ]
  },
  {
   "cell_type": "code",
   "execution_count": 248,
   "metadata": {},
   "outputs": [],
   "source": [
    "domain_dict = {\n",
    "    \"vi.wikipedia.org\": \"wiki\",\n",
    "    \"vnexpress.net\": \"vnexpress\",\n",
    "    \"news.zing.vn\": \"zingnews\",\n",
    "    \"dantri.com.vn\": \"dantri\",\n",
    "    \"thethao.thanhnien.vn\": \"thethaothanhnien\",\n",
    "    \"vietnamnet.vn\": \"vietnamnet\",\n",
    "    \"tuoitre.vn\": \"tuoitrevn\",\n",
    "    \"thanhnien.vn\": \"thanhnien\",\n",
    "    \"cafebiz.vn\": \"cafebiz\",\n",
    "    \"laodong.vn\": \"laodong\"\n",
    "}"
   ]
  },
  {
   "cell_type": "code",
   "execution_count": 249,
   "metadata": {},
   "outputs": [
    {
     "name": "stderr",
     "output_type": "stream",
     "text": [
      "\n",
      "  0%|          | 0/8 [00:00<?, ?it/s]\u001b[A"
     ]
    },
    {
     "name": "stdout",
     "output_type": "stream",
     "text": [
      "https://vi.wikipedia.org/wiki/Ho%C3%A0ng_Ki%E1%BB%81u\n"
     ]
    },
    {
     "name": "stderr",
     "output_type": "stream",
     "text": [
      "\n",
      " 12%|█▎        | 1/8 [00:00<00:04,  1.52it/s]\u001b[A"
     ]
    },
    {
     "name": "stdout",
     "output_type": "stream",
     "text": [
      "https://vietnamnet.vn/hoang-kieu-tag27907.html\n"
     ]
    },
    {
     "name": "stderr",
     "output_type": "stream",
     "text": [
      "\n",
      " 50%|█████     | 4/8 [00:01<00:02,  1.80it/s]\u001b[A\n",
      "100%|██████████| 8/8 [00:01<00:00,  4.95it/s]\u001b[A"
     ]
    }
   ],
   "source": [
    "result = {}\n",
    "\n",
    "for i in tqdm(range(len(search_result))):\n",
    "    url = search_result[i].link\n",
    "    domain = urlparse(url).netloc\n",
    "    if domain not in domain_dict.keys():\n",
    "        continue\n",
    "    domain = domain_dict[domain]\n",
    "    \n",
    "    dt = framler.NewspapersParser(domain)\n",
    "    print(url)\n",
    "    text = dt.parse(url).text\n",
    "    \n",
    "    passages = []\n",
    "\n",
    "    for sent in text.split('.'):\n",
    "        sent_tok = \" \".join(tokenize(sent))\n",
    "        sent_tok = sent_tok.replace('\\n', '').strip().lower()\n",
    "        sent_keywords = keywords_extraction(sent_tok)\n",
    "        num_overlap_keywords = len(set(sent_keywords) & set(keywords))\n",
    "        if num_overlap_keywords > 0:\n",
    "            passages.append(sent)\n",
    "    \n",
    "    for p in passages:\n",
    "        res = []\n",
    "        for info in ner(p):\n",
    "            if info[3] == 'B-PER':\n",
    "                res.append(info[0])\n",
    "            if info[3] == 'I-PER':\n",
    "                res[-1] += ' ' + info[0]\n",
    "        for r in res:\n",
    "            if r in result.keys():\n",
    "                result[r] += 1\n",
    "            else:\n",
    "                result[r] = 1\n",
    "    for key in result.keys():\n",
    "        if \"_\".join(key.split()).lower() in keywords: #Remove keyword from question\n",
    "            result[key] = 0"
   ]
  },
  {
   "cell_type": "code",
   "execution_count": 250,
   "metadata": {},
   "outputs": [],
   "source": [
    "sorted_result = sorted(result.items(), key=operator.itemgetter(1), reverse=True)"
   ]
  },
  {
   "cell_type": "code",
   "execution_count": 251,
   "metadata": {},
   "outputs": [
    {
     "data": {
      "text/plain": [
       "[('RAAS', 1), ('Ngọc Trinh', 1), ('Hoàng Kiều', 0)]"
      ]
     },
     "execution_count": 251,
     "metadata": {},
     "output_type": "execute_result"
    }
   ],
   "source": [
    "sorted_result[:5]"
   ]
  },
  {
   "cell_type": "code",
   "execution_count": null,
   "metadata": {},
   "outputs": [],
   "source": []
  }
 ],
 "metadata": {
  "kernelspec": {
   "display_name": "qa_env",
   "language": "python",
   "name": "qa_env"
  },
  "language_info": {
   "codemirror_mode": {
    "name": "ipython",
    "version": 3
   },
   "file_extension": ".py",
   "mimetype": "text/x-python",
   "name": "python",
   "nbconvert_exporter": "python",
   "pygments_lexer": "ipython3",
   "version": "3.5.2"
  }
 },
 "nbformat": 4,
 "nbformat_minor": 2
}
